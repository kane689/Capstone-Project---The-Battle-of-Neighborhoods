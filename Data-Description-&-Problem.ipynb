{
  "nbformat": 4,
  "nbformat_minor": 0,
  "metadata": {
    "colab": {
      "name": "Untitled17.ipynb",
      "provenance": [],
      "authorship_tag": "ABX9TyMSWPU902mx39/rGhU2/j4Q",
      "include_colab_link": true
    },
    "kernelspec": {
      "name": "python3",
      "display_name": "Python 3"
    },
    "language_info": {
      "name": "python"
    }
  },
  "cells": [
    {
      "cell_type": "markdown",
      "metadata": {
        "id": "view-in-github",
        "colab_type": "text"
      },
      "source": [
        "<a href=\"https://colab.research.google.com/github/kane689/Capstone-Project---The-Battle-of-Neighborhoods/blob/main/Data-Description-%26-Problem.ipynb\" target=\"_parent\"><img src=\"https://colab.research.google.com/assets/colab-badge.svg\" alt=\"Open In Colab\"/></a>"
      ]
    },
    {
      "cell_type": "markdown",
      "metadata": {
        "id": "py6wdZQ1F_7e"
      },
      "source": [
        "<h4\n",
        "\n",
        "```\n",
        "# This is formatted as code\n",
        "```\n",
        "\n",
        ">Coffee Shops in Toronto<h4>"
      ]
    },
    {
      "cell_type": "markdown",
      "metadata": {
        "id": "1zWXyDk7GjQI"
      },
      "source": [
        "Within large cities there is an abundance of coffee shops, while this may prove difficult for consumers to pick from it proves an even more difficult task for people looking to open a coffee shop. I will look to use Foursquare and data from the neighborhoods of Toronto to make recommendations to people about where is best to open a coffee shop."
      ]
    },
    {
      "cell_type": "markdown",
      "metadata": {
        "id": "KzPPU0PUIOE9"
      },
      "source": [
        "<h4>Description of Data<h4>"
      ]
    },
    {
      "cell_type": "markdown",
      "metadata": {
        "id": "-BrjtqmXIef9"
      },
      "source": [
        "To complete this the following data was used:\n",
        "\n",
        "\t\n",
        "1. Toronto Neighborhood Data\n",
        "   * Data Source: https://en.wikipedia.org/wiki/List_of_postal_codes_of_Canada:_M\n",
        "   * The link above contains information regarding the neighborhoods in Toronto.\n",
        "2. Location Data \n",
        "   * Data Source: https://cocl.us/Geospatial_data\n",
        "   * This data provides us with the coordinates of the corresponding neighborhoods found in the wikipedia page.\n",
        "3. Foursquare API\n",
        "   * Data Source: https://foursquare.com/developers/apps\n",
        "   * The Foursquare API provides us with the information regarding the venues. This will allow us to analyse the coffee shops in Toronto.\n",
        "\n"
      ]
    },
    {
      "cell_type": "code",
      "metadata": {
        "id": "DpM9IowiIdQr"
      },
      "source": [
        ""
      ],
      "execution_count": null,
      "outputs": []
    }
  ]
}